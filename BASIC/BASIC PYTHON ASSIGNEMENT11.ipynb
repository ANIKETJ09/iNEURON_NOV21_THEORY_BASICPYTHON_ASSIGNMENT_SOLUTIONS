{
 "cells": [
  {
   "cell_type": "code",
   "execution_count": null,
   "id": "165ec2d6",
   "metadata": {},
   "outputs": [],
   "source": [
    "# 1. Create an assert statement that throws an AssertionError if the variable spam is a negative integer.\n",
    "# ANS -"
   ]
  },
  {
   "cell_type": "code",
   "execution_count": 2,
   "id": "586c5917",
   "metadata": {},
   "outputs": [
    {
     "name": "stdout",
     "output_type": "stream",
     "text": [
      "-6\n"
     ]
    },
    {
     "ename": "AssertionError",
     "evalue": "",
     "output_type": "error",
     "traceback": [
      "\u001b[0;31m---------------------------------------------------------------------------\u001b[0m",
      "\u001b[0;31mAssertionError\u001b[0m                            Traceback (most recent call last)",
      "Input \u001b[0;32mIn [2]\u001b[0m, in \u001b[0;36m<cell line: 2>\u001b[0;34m()\u001b[0m\n\u001b[1;32m      1\u001b[0m c \u001b[38;5;241m=\u001b[39m \u001b[38;5;28mint\u001b[39m(\u001b[38;5;28minput\u001b[39m())\n\u001b[0;32m----> 2\u001b[0m \u001b[38;5;28;01massert\u001b[39;00m c \u001b[38;5;241m>\u001b[39m \u001b[38;5;241m0\u001b[39m \n\u001b[1;32m      3\u001b[0m \u001b[38;5;28mprint\u001b[39m(c,\u001b[38;5;124m\"\u001b[39m\u001b[38;5;124mis a positive number\u001b[39m\u001b[38;5;124m\"\u001b[39m)\n",
      "\u001b[0;31mAssertionError\u001b[0m: "
     ]
    }
   ],
   "source": [
    "c = int(input())\n",
    "assert c > 0 \n",
    "print(c,\"is a positive number\")"
   ]
  },
  {
   "cell_type": "code",
   "execution_count": null,
   "id": "4f851d95",
   "metadata": {},
   "outputs": [],
   "source": [
    "# 2. Write an assert statement that triggers an AssertionError if the variables eggs and bacon contain strings \n",
    "# that are the same as each other, even if their cases are different (that is, 'hello' and 'hello' are considered \n",
    "# the same, and 'goodbye' and 'GOODbye' are also considered the same).\n",
    "#ANS -"
   ]
  },
  {
   "cell_type": "code",
   "execution_count": 8,
   "id": "0ed3fd25",
   "metadata": {},
   "outputs": [
    {
     "name": "stdout",
     "output_type": "stream",
     "text": [
      "The eggs and bacons are not the same\n"
     ]
    }
   ],
   "source": [
    "# ANS of 2nd Q\n",
    "eggs = \"goodbye\"\n",
    "bacon = \"BYEbye\"\n",
    "\n",
    "assert eggs.lower() != bacon.lower() or eggs.upper() != bacon.upper()\n",
    "print(\"The eggs and bacons are not the same\")"
   ]
  },
  {
   "cell_type": "code",
   "execution_count": null,
   "id": "73196a3e",
   "metadata": {},
   "outputs": [],
   "source": [
    "# 3. Create an assert statement that throws an AssertionError every time.\n",
    "ANS -"
   ]
  },
  {
   "cell_type": "code",
   "execution_count": 5,
   "id": "fd6d8bc8",
   "metadata": {},
   "outputs": [],
   "source": [
    "# ANS of 3rd Q\n",
    "assert False - #This statement always throws AssertionError"
   ]
  },
  {
   "cell_type": "code",
   "execution_count": null,
   "id": "3eefd899",
   "metadata": {},
   "outputs": [],
   "source": [
    "4. What are the two lines that must be present in your software in order to call logging.debug()?\n",
    "ANS - Followin two lines must be present in order to call logging.debug()"
   ]
  },
  {
   "cell_type": "code",
   "execution_count": 6,
   "id": "a5dbbdd1",
   "metadata": {},
   "outputs": [],
   "source": [
    "# ANS of 4th Q\n",
    "import logging \n",
    "logging.basicConfig(level = logging.DEBUG , format = \"%(asctime)s %(levelnname)s %(messages)s\")"
   ]
  },
  {
   "cell_type": "code",
   "execution_count": null,
   "id": "08724ec5",
   "metadata": {},
   "outputs": [],
   "source": [
    "#5. What are the two lines that your program must have in order to have logging.debug() send a logging message to a file named programLog.txt?\n",
    "ANS - Following two lines must be present"
   ]
  },
  {
   "cell_type": "code",
   "execution_count": 7,
   "id": "70e962a1",
   "metadata": {},
   "outputs": [],
   "source": [
    "# ANS of 5th Q\n",
    "import logging\n",
    "logging.basicConfig(filename = \"programLog.txt\",levelname = logging.DEBUG,format =\"%(asctime)s %(levelnname)s %(messages)s\" )"
   ]
  },
  {
   "cell_type": "code",
   "execution_count": null,
   "id": "6b7c5ce7",
   "metadata": {},
   "outputs": [],
   "source": [
    "# 6. What are the five levels of logging?\n",
    "ANS - Following are the five levels of logging -\n",
    "DEBUG\n",
    "INFO\n",
    "WARNING\n",
    "ERROR\n",
    "CRITICAL"
   ]
  },
  {
   "cell_type": "code",
   "execution_count": null,
   "id": "a2430608",
   "metadata": {},
   "outputs": [],
   "source": [
    "# 7. What line of code would you add to your software to disable all logging messages?\n",
    "ANS - logging.disable(logging.CRITICAL)"
   ]
  },
  {
   "cell_type": "code",
   "execution_count": null,
   "id": "b6313486",
   "metadata": {},
   "outputs": [],
   "source": [
    "#8.Why is using logging messages better than using print() to display the same message?\n",
    "ANS - Following are the advantages of logging over print statements -\n",
    "You can define what kind of information you want to include in your logs.\n",
    "Logging messages provide timestamps of every operation.\n",
    "You can differentiate your logging."
   ]
  },
  {
   "cell_type": "code",
   "execution_count": null,
   "id": "b0519dea",
   "metadata": {},
   "outputs": [],
   "source": [
    "# 9. What are the differences between the Step Over, Step In, and Step Out buttons in the debugger?\n",
    "ANS - 1.Step over- It's an action to take in the debugger that will step over a given line. \n",
    "If the line contains a function the function will be executed and the result returned without debugging each line.\n",
    "2.Step-Out - It's an action to take in the debugger that returns to the line where the current function was called.\n",
    "3.Step in - It's an action to take in the debugger. If the line does not contain a function it behaves the same \n",
    "as “step over” but if it does the debugger will enter the called function and continue line-by-line debugging \n",
    "there"
   ]
  },
  {
   "cell_type": "code",
   "execution_count": null,
   "id": "10701381",
   "metadata": {},
   "outputs": [],
   "source": [
    "# 10.After you click Continue, when will the debugger stop ?\n",
    "ANS - The debugger will stop at the breakpoint or at the end the end of the program."
   ]
  },
  {
   "cell_type": "code",
   "execution_count": null,
   "id": "5b21b686",
   "metadata": {},
   "outputs": [],
   "source": [
    "# 11. What is the concept of a breakpoint?\n",
    "ANS - This is the kind of setting on a line of code that helps to pause the debugger when the program reaches \n",
    "the execution line."
   ]
  },
  {
   "cell_type": "code",
   "execution_count": null,
   "id": "c6bb4786",
   "metadata": {},
   "outputs": [],
   "source": []
  }
 ],
 "metadata": {
  "kernelspec": {
   "display_name": "Python 3 (ipykernel)",
   "language": "python",
   "name": "python3"
  },
  "language_info": {
   "codemirror_mode": {
    "name": "ipython",
    "version": 3
   },
   "file_extension": ".py",
   "mimetype": "text/x-python",
   "name": "python",
   "nbconvert_exporter": "python",
   "pygments_lexer": "ipython3",
   "version": "3.9.12"
  }
 },
 "nbformat": 4,
 "nbformat_minor": 5
}
