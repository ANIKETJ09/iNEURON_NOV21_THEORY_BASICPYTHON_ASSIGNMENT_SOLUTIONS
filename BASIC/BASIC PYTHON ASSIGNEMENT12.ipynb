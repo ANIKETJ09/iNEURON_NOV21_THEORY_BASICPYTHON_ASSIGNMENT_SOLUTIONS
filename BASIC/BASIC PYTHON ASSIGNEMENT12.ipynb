{
 "cells": [
  {
   "cell_type": "code",
   "execution_count": null,
   "id": "33e3cd22",
   "metadata": {},
   "outputs": [],
   "source": [
    "# 1. In what modes should the PdfFileReader() and PdfFileWriter() File objects will be opened?\n",
    "ANS - For PdfFileReader() file objects should be opened in rb -> read binary mode, Whereas for PdfFileWriter() \n",
    "file objects should be opened in wb -> write binary mode."
   ]
  },
  {
   "cell_type": "code",
   "execution_count": null,
   "id": "945faa5e",
   "metadata": {},
   "outputs": [],
   "source": [
    "# 2. From a PdfFileReader object, how do you get a Page object for page 5?\n",
    "ANS - PdfFileReader class provides a method called getPage(page_no) to get a page object."
   ]
  },
  {
   "cell_type": "code",
   "execution_count": 3,
   "id": "ab403f5a",
   "metadata": {},
   "outputs": [
    {
     "name": "stdout",
     "output_type": "stream",
     "text": [
      "Collecting PyPDF2\n",
      "  Downloading pypdf2-3.0.1-py3-none-any.whl (232 kB)\n",
      "\u001b[K     |████████████████████████████████| 232 kB 1.2 MB/s eta 0:00:01\n",
      "\u001b[?25hRequirement already satisfied: typing_extensions>=3.10.0.0 in /opt/anaconda3/lib/python3.9/site-packages (from PyPDF2) (4.1.1)\n",
      "Installing collected packages: PyPDF2\n",
      "Successfully installed PyPDF2-3.0.1\n",
      "Note: you may need to restart the kernel to use updated packages.\n"
     ]
    }
   ],
   "source": [
    "pip install PyPDF2"
   ]
  },
  {
   "cell_type": "code",
   "execution_count": null,
   "id": "edf5c651",
   "metadata": {},
   "outputs": [],
   "source": [
    "# ANS of 2nd Q\n",
    "# Sample Code:\n",
    "from PyPDF2 import PdfFileReader\n",
    "pdf_reader = PdfFileReader(<file_path>)\n",
    "for page in pdf_reader.getNumPages():\n",
    "    pdf_reader.getPage(page)"
   ]
  },
  {
   "cell_type": "code",
   "execution_count": null,
   "id": "3445657a",
   "metadata": {},
   "outputs": [],
   "source": [
    "# 3. What PdfFileReader variable stores the number of pages in the PDF document?\n",
    "ANS - getNumPages() method of PdfFileReader class stores the no pages in a PDF document"
   ]
  },
  {
   "cell_type": "code",
   "execution_count": null,
   "id": "2f667904",
   "metadata": {},
   "outputs": [],
   "source": [
    "# ANS of 3rd Q\n",
    "#Sample Code:\n",
    "from PyPDF2 import PdfFileReader\n",
    "pdf_reader = PdfFileReader(<file_path>)\n",
    "print(pdf_reader.getNumPages()) "
   ]
  },
  {
   "cell_type": "code",
   "execution_count": null,
   "id": "428687d4",
   "metadata": {},
   "outputs": [],
   "source": [
    "# 4. If a PdfFileReader object’s PDF is encrypted with the password swordfish, what must you do before you can \n",
    "# obtain Page objects from it?\n",
    "ANS - If a PdfFileReader object’s PDF is encrypted with the password swordfish and you are not aware of it. \n",
    "first read the Pdf using the PdfFileReader Class. PdfFileReader class provides a attribute called isEncrypted to \n",
    "check whether a pdf is encrypted or not. the method returns true if a pdf is encrypted and vice versa. if pdf is \n",
    "encrypted use the decrypt() method provided by PdfFileReader class first then try to read the contents/pages of \n",
    "the pdf, else PyPDF2 will raise the following error PyPDF2.utils.PdfReadError: file has not been decrypted"
   ]
  },
  {
   "cell_type": "code",
   "execution_count": null,
   "id": "049b2c60",
   "metadata": {},
   "outputs": [],
   "source": [
    "# 5. What methods do you use to rotate a page?\n",
    "ANS - PyPDF2 Package provides 2 methods to rotate a page:\n",
    "rotateClockWise() -> For Clockwise rotation\n",
    "rotateCounterClockWise() -> For Counter Clockwise rotation\n",
    "The PyPDF2 package only allows you to rotate a page in increments of 90 degrees.\n",
    "You will receive an AssertionError otherwise."
   ]
  },
  {
   "cell_type": "code",
   "execution_count": null,
   "id": "ed6a6df7",
   "metadata": {},
   "outputs": [],
   "source": [
    "# 7. How do you obtain a list of Paragraph objects for a Document object that’s stored in a variable named doc?\n",
    "ANS -"
   ]
  },
  {
   "cell_type": "code",
   "execution_count": null,
   "id": "b60334f2",
   "metadata": {},
   "outputs": [],
   "source": [
    "# ANS of 7th Q\n",
    "# Sample Program\n",
    "from docx import Document\n",
    "doc = Document(\"sample_file.docx\") # Path of the Docx file\n",
    "print(doc.paragraphs) # Prints the list of Paragraph objects for a Document\n",
    "for paragraph in doc.paragraphs:\n",
    "    print(paragraph.text) # Prints the text in the paragraph"
   ]
  },
  {
   "cell_type": "code",
   "execution_count": null,
   "id": "17db860e",
   "metadata": {},
   "outputs": [],
   "source": [
    "#8. What type of object has bold, underline, italic, strike, and outline variables?\n",
    "ANS - Run object has bold, underline, italic, strike, and outline variables. \n",
    "The text in a Word document is more than just a string. It has font, size, color, and other styling information\n",
    "associated with it.\n",
    "A style in Word is a collection of these attributes. A Run object is a contiguous run of text with the same style. A new Run object is needed whenever the text style changes."
   ]
  },
  {
   "cell_type": "code",
   "execution_count": null,
   "id": "2f7d0484",
   "metadata": {},
   "outputs": [],
   "source": [
    "#9. What is the difference between False, True, and None for the bold variable?\n",
    "ANS -"
   ]
  },
  {
   "cell_type": "code",
   "execution_count": 7,
   "id": "76dbbd75",
   "metadata": {},
   "outputs": [],
   "source": [
    "# ANS of 9th Q\n",
    "bold = True  # Style Set to Bold\n",
    "bold = False # Style Not Set to Bold\n",
    "bold = None # Style is Not Applicable"
   ]
  },
  {
   "cell_type": "code",
   "execution_count": null,
   "id": "8a6dbc6b",
   "metadata": {},
   "outputs": [],
   "source": [
    "#10. How do you create a Document object for a new Word document?\n",
    "ANS -"
   ]
  },
  {
   "cell_type": "code",
   "execution_count": null,
   "id": "d7c02c7d",
   "metadata": {},
   "outputs": [],
   "source": [
    "# ANS of 10th Q\n",
    "# Sample Program\n",
    "from docx import Document\n",
    "document = Document()\n",
    "document.add_paragraph(\"iNeuron Full Stack DataScience Course\")\n",
    "document.save('mydocument.docx')"
   ]
  },
  {
   "cell_type": "code",
   "execution_count": null,
   "id": "a8cdacc1",
   "metadata": {},
   "outputs": [],
   "source": [
    "# 11. How do you add a paragraph with the text 'Hello, there!' to a Document object stored in a variable named doc?\n",
    "ANS -"
   ]
  },
  {
   "cell_type": "code",
   "execution_count": null,
   "id": "8804082a",
   "metadata": {},
   "outputs": [],
   "source": [
    "# ANS of 11th Q\n",
    "# Sample Program\n",
    "from docx import Document\n",
    "doc = Document()\n",
    "doc.add_paragraph('Hello, there!')\n",
    "doc.save('hello.docx')"
   ]
  },
  {
   "cell_type": "code",
   "execution_count": null,
   "id": "3e6b5de0",
   "metadata": {},
   "outputs": [],
   "source": [
    "# 12. What integers represent the levels of headings available in Word documents?\n",
    "ANS - The levels for a heading in a word document can be specified by using the level attribute inside the \n",
    "add_heading method. There are a total of 5 levels statring for 0 t0 4. where level 0 makes a headline with the \n",
    "horizontal line below the text, whereas the heading level 1 is the main heading. Similarly, the other headings \n",
    "are sub-heading with their's font-sizes in decreasing order."
   ]
  },
  {
   "cell_type": "code",
   "execution_count": null,
   "id": "34ff5f36",
   "metadata": {},
   "outputs": [],
   "source": []
  }
 ],
 "metadata": {
  "kernelspec": {
   "display_name": "Python 3 (ipykernel)",
   "language": "python",
   "name": "python3"
  },
  "language_info": {
   "codemirror_mode": {
    "name": "ipython",
    "version": 3
   },
   "file_extension": ".py",
   "mimetype": "text/x-python",
   "name": "python",
   "nbconvert_exporter": "python",
   "pygments_lexer": "ipython3",
   "version": "3.9.12"
  }
 },
 "nbformat": 4,
 "nbformat_minor": 5
}
