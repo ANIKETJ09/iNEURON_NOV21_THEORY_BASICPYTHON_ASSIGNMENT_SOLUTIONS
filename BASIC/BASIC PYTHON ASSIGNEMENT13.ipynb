{
 "cells": [
  {
   "cell_type": "code",
   "execution_count": null,
   "id": "666d182c",
   "metadata": {},
   "outputs": [],
   "source": [
    "# 1. What advantages do Excel spreadsheets have over CSV spreadsheets?\n",
    "Ans - \n",
    "1. Files saved in excel cannot be edited in any text editor.\n",
    "2. In Excel we can store data as well as can perfrom operations on data.\n",
    "3. Data analysis and Data ,manipulation can be done by excel spreadsheet effectively.\n",
    "4. We can store the data in excel in the form of bars, graphs and charts.\n",
    "5. Excel can be connected to external data source."
   ]
  },
  {
   "cell_type": "code",
   "execution_count": null,
   "id": "4f51566e",
   "metadata": {},
   "outputs": [],
   "source": [
    "# 2.What do you pass to csv.reader() and csv.writer() to create reader and writer objects?\n",
    "ANS -"
   ]
  },
  {
   "cell_type": "code",
   "execution_count": null,
   "id": "20df5add",
   "metadata": {},
   "outputs": [],
   "source": [
    "# ANS of 2nd Q\n",
    "#import csv module \n",
    "import csv \n",
    "\n",
    "#csv.reader() \n",
    "\n",
    "with open('sample_data.csv', 'r') as file :\n",
    "  reader = csv.reader(file)\n",
    "  for row in reader :\n",
    "    print(row)"
   ]
  },
  {
   "cell_type": "code",
   "execution_count": null,
   "id": "8c03d656",
   "metadata": {},
   "outputs": [],
   "source": [
    "# ANS of 2nd Q\n",
    "#import csv module \n",
    "import csv \n",
    "\n",
    "#csv.wrirer()\n",
    "\n",
    "with open('sample_data.csv', 'r' , newline = '') as file :\n",
    "  writer = csv.writer(file)\n",
    "  writer.writerrow([\"Batman\" , \"Riddler\" , \"Superman\"])\n",
    "  writer.writerrow([1,2,3,5])"
   ]
  },
  {
   "cell_type": "code",
   "execution_count": null,
   "id": "96c1ef81",
   "metadata": {},
   "outputs": [],
   "source": [
    "# 3. What modes do File objects for reader and writer objects need to be opened in?\n",
    "ANS - Read binary ('rb') = For reader objects and Write binary('wb') = For writer objects"
   ]
  },
  {
   "cell_type": "code",
   "execution_count": null,
   "id": "8eb37dad",
   "metadata": {},
   "outputs": [],
   "source": [
    "#4. What method takes a list argument and writes it to a CSV file?\n",
    "ANS - writerows() takes list argument and writes it to a csv file."
   ]
  },
  {
   "cell_type": "code",
   "execution_count": null,
   "id": "8910531f",
   "metadata": {},
   "outputs": [],
   "source": [
    "#5. What do the keyword arguments delimiter and line terminator do?\n",
    "ANS - Delimeter - The delimiter argument changes the string used to separate cells in a row.\n",
    "Lineterminator - The lineterminator argument changes the string used to separate rows."
   ]
  },
  {
   "cell_type": "code",
   "execution_count": null,
   "id": "00d789b0",
   "metadata": {},
   "outputs": [],
   "source": [
    "#6. What function takes a string of JSON data and returns a Python data structure?\n",
    "ANS - json.loads() is the function we use."
   ]
  },
  {
   "cell_type": "code",
   "execution_count": null,
   "id": "25c7c322",
   "metadata": {},
   "outputs": [],
   "source": [
    "#7. What function takes a Python data structure and returns a string of JSON data?\n",
    "ANS - json.dump() is the function we use."
   ]
  },
  {
   "cell_type": "code",
   "execution_count": null,
   "id": "7c95dc8c",
   "metadata": {},
   "outputs": [],
   "source": []
  },
  {
   "cell_type": "code",
   "execution_count": null,
   "id": "1115c6e8",
   "metadata": {},
   "outputs": [],
   "source": []
  }
 ],
 "metadata": {
  "kernelspec": {
   "display_name": "Python 3 (ipykernel)",
   "language": "python",
   "name": "python3"
  },
  "language_info": {
   "codemirror_mode": {
    "name": "ipython",
    "version": 3
   },
   "file_extension": ".py",
   "mimetype": "text/x-python",
   "name": "python",
   "nbconvert_exporter": "python",
   "pygments_lexer": "ipython3",
   "version": "3.9.12"
  }
 },
 "nbformat": 4,
 "nbformat_minor": 5
}
