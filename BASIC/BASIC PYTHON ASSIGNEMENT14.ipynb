{
 "cells": [
  {
   "cell_type": "code",
   "execution_count": null,
   "id": "2c6abdb8",
   "metadata": {},
   "outputs": [],
   "source": [
    "#1. What does RGBA stand for?\n",
    "ANS - RGBA stands for Red,Green, Blue and Alpha(Transparency) respectively."
   ]
  },
  {
   "cell_type": "code",
   "execution_count": null,
   "id": "fd5cf253",
   "metadata": {},
   "outputs": [],
   "source": [
    "#2. From the Pillow module, how do you get the RGBA value of any images?\n",
    "ANS -"
   ]
  },
  {
   "cell_type": "code",
   "execution_count": 1,
   "id": "6e1e770c",
   "metadata": {},
   "outputs": [
    {
     "data": {
      "text/plain": [
       "(0, 0, 255, 255)"
      ]
     },
     "execution_count": 1,
     "metadata": {},
     "output_type": "execute_result"
    }
   ],
   "source": [
    "# ANS OF 2nd Q\n",
    "from PIL import ImageColor \n",
    "ImageColor.getcolor('red' , 'RGBA') \n",
    "ImageColor.getcolor('blue' , 'RGBA')"
   ]
  },
  {
   "cell_type": "code",
   "execution_count": null,
   "id": "5cecff81",
   "metadata": {},
   "outputs": [],
   "source": [
    "# 3. What is a box tuple, and how does it work?\n",
    "ANS - It's a tuple value of four integers in which following contains -\n",
    "left edge x-coordinate\n",
    "top edge y-coordinate\n",
    "The width\n",
    "And the Height."
   ]
  },
  {
   "cell_type": "code",
   "execution_count": null,
   "id": "7853a170",
   "metadata": {},
   "outputs": [],
   "source": [
    "#4. Use your image and load in notebook then, How can you find out the width and height of an Image object?\n",
    "ANS -"
   ]
  },
  {
   "cell_type": "code",
   "execution_count": 4,
   "id": "967fa311",
   "metadata": {},
   "outputs": [
    {
     "data": {
      "text/plain": [
       "(900, 900)"
      ]
     },
     "execution_count": 4,
     "metadata": {},
     "output_type": "execute_result"
    }
   ],
   "source": [
    "# ANS OF 4th Q\n",
    "from PIL import Image \n",
    "myImage = Image.open('ASSIGNMENT_NO_14_.jpg')\n",
    "w,h = myImage.size \n",
    "w,h"
   ]
  },
  {
   "cell_type": "code",
   "execution_count": null,
   "id": "afa1b66b",
   "metadata": {},
   "outputs": [],
   "source": [
    "#5. What method would you call to get Image object for a 100×100 image, excluding the lower-left quarter of it?\n",
    "ANS - ImageObject.crop((0,50,50,50) This can do the work"
   ]
  },
  {
   "cell_type": "code",
   "execution_count": null,
   "id": "a9597422",
   "metadata": {},
   "outputs": [],
   "source": [
    "#6. After making changes to an Image object, how could you save it as an image file?\n",
    "ANS - ImageObject.save('New_Image.jpg') This can do the work."
   ]
  },
  {
   "cell_type": "code",
   "execution_count": null,
   "id": "c5f25e55",
   "metadata": {},
   "outputs": [],
   "source": [
    "#7. What module contains Pillow’s shape-drawing code?\n",
    "ANS - The ImageDraw module contains Pillow's shape-drawing code."
   ]
  },
  {
   "cell_type": "code",
   "execution_count": null,
   "id": "6575a5c7",
   "metadata": {},
   "outputs": [],
   "source": [
    "#8. Image objects do not have drawing methods. What kind of object does? How do you get this kind of object?\n",
    "ANS - ImageDraw methods have drwaing method such as point() , line() and rectangle() ,etc.\n",
    "The can be called by passing ImageDraw.Draw() function."
   ]
  },
  {
   "cell_type": "code",
   "execution_count": null,
   "id": "26e283b4",
   "metadata": {},
   "outputs": [],
   "source": []
  }
 ],
 "metadata": {
  "kernelspec": {
   "display_name": "Python 3 (ipykernel)",
   "language": "python",
   "name": "python3"
  },
  "language_info": {
   "codemirror_mode": {
    "name": "ipython",
    "version": 3
   },
   "file_extension": ".py",
   "mimetype": "text/x-python",
   "name": "python",
   "nbconvert_exporter": "python",
   "pygments_lexer": "ipython3",
   "version": "3.9.12"
  }
 },
 "nbformat": 4,
 "nbformat_minor": 5
}
