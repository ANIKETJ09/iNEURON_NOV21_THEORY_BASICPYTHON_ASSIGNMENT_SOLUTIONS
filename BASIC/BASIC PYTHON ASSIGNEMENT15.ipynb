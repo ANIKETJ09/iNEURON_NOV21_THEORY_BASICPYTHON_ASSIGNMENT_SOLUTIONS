{
 "cells": [
  {
   "cell_type": "code",
   "execution_count": null,
   "id": "c1306966",
   "metadata": {},
   "outputs": [],
   "source": [
    "# 1.How many seconds are in an hour? Use the interactive interpreter as a calculator and multiply the number of seconds in a minute (60) by the number of minutes in an hour (also 60).\n",
    "ANS -"
   ]
  },
  {
   "cell_type": "code",
   "execution_count": 1,
   "id": "0b7f5800",
   "metadata": {},
   "outputs": [
    {
     "data": {
      "text/plain": [
       "3600"
      ]
     },
     "execution_count": 1,
     "metadata": {},
     "output_type": "execute_result"
    }
   ],
   "source": [
    "# ANS of 1st Q\n",
    "min_per_hr = 60\n",
    "sec_per_min = 60 \n",
    "\n",
    "min_per_hr * sec_per_min"
   ]
  },
  {
   "cell_type": "code",
   "execution_count": null,
   "id": "a9dd7c8d",
   "metadata": {},
   "outputs": [],
   "source": [
    "# 2. Assign the result from the previous task (seconds in an hour) to a variable called seconds_per_hour\n",
    "ANS -"
   ]
  },
  {
   "cell_type": "code",
   "execution_count": 2,
   "id": "6857bf83",
   "metadata": {},
   "outputs": [
    {
     "data": {
      "text/plain": [
       "3600"
      ]
     },
     "execution_count": 2,
     "metadata": {},
     "output_type": "execute_result"
    }
   ],
   "source": [
    "# ANS of 2nd Q\n",
    "seconds_per_hour = min_per_hr * sec_per_min\n",
    "seconds_per_hour"
   ]
  },
  {
   "cell_type": "code",
   "execution_count": null,
   "id": "ae5f13ca",
   "metadata": {},
   "outputs": [],
   "source": [
    "# 3. How many seconds do you think there are in a day? Make use of the variables seconds per hour and minutes per hour\n",
    "ANS -"
   ]
  },
  {
   "cell_type": "code",
   "execution_count": 3,
   "id": "2d38848b",
   "metadata": {},
   "outputs": [
    {
     "data": {
      "text/plain": [
       "86400"
      ]
     },
     "execution_count": 3,
     "metadata": {},
     "output_type": "execute_result"
    }
   ],
   "source": [
    "# ANS of 3rd Q\n",
    "hours_in_day = 24 \n",
    "seconds_per_hour * hours_in_day"
   ]
  },
  {
   "cell_type": "code",
   "execution_count": null,
   "id": "da2baa4b",
   "metadata": {},
   "outputs": [],
   "source": [
    "# 4. Calculate seconds per day again, but this time save the result in a variable called seconds_per_day\n",
    "ANS -"
   ]
  },
  {
   "cell_type": "code",
   "execution_count": 4,
   "id": "30365e0c",
   "metadata": {},
   "outputs": [
    {
     "data": {
      "text/plain": [
       "86400"
      ]
     },
     "execution_count": 4,
     "metadata": {},
     "output_type": "execute_result"
    }
   ],
   "source": [
    "# ANS of 4th Q\n",
    "seconds_per_day = seconds_per_hour * hours_in_day\n",
    "seconds_per_day"
   ]
  },
  {
   "cell_type": "code",
   "execution_count": null,
   "id": "d725e4e9",
   "metadata": {},
   "outputs": [],
   "source": [
    "# 5. Divide seconds_per_day by seconds_per_hour. Use floating-point (/) division.\n",
    "ANS -"
   ]
  },
  {
   "cell_type": "code",
   "execution_count": 5,
   "id": "cb8418c0",
   "metadata": {},
   "outputs": [
    {
     "data": {
      "text/plain": [
       "24.0"
      ]
     },
     "execution_count": 5,
     "metadata": {},
     "output_type": "execute_result"
    }
   ],
   "source": [
    "# ANS of 5th Q\n",
    "seconds_per_day/seconds_per_hour"
   ]
  },
  {
   "cell_type": "code",
   "execution_count": null,
   "id": "650ffd2c",
   "metadata": {},
   "outputs": [],
   "source": [
    "# 6. Divide seconds_per_day by seconds_per_hour, using integer (//) division. Did this number agree with the floating-point value from the previous question, aside from the final .0?\n",
    "ANS -"
   ]
  },
  {
   "cell_type": "code",
   "execution_count": 6,
   "id": "3681304e",
   "metadata": {},
   "outputs": [
    {
     "data": {
      "text/plain": [
       "24"
      ]
     },
     "execution_count": 6,
     "metadata": {},
     "output_type": "execute_result"
    }
   ],
   "source": [
    "# ANS of 6th Q\n",
    "seconds_per_day//seconds_per_hour \n",
    "#It agrees"
   ]
  },
  {
   "cell_type": "code",
   "execution_count": null,
   "id": "84561560",
   "metadata": {},
   "outputs": [],
   "source": [
    "# 7. Write a generator, genPrimes, that returns the sequence of prime numbers on successive calls to its next() method: 2, 3, 5, 7, 11, ...\n",
    "ANS -"
   ]
  },
  {
   "cell_type": "code",
   "execution_count": 9,
   "id": "4dc577d8",
   "metadata": {},
   "outputs": [],
   "source": [
    "# ANS of 7th Q\n",
    "def genPrimes():\n",
    "  Primes = []\n",
    "  n = 2 \n",
    "  while True :\n",
    "    for i in Primes :\n",
    "      if n % i == 0:\n",
    "        break \n",
    "    else :\n",
    "      Primes.append(n)\n",
    "      yield n \n",
    "    n = n+1 "
   ]
  },
  {
   "cell_type": "code",
   "execution_count": null,
   "id": "21eba01c",
   "metadata": {},
   "outputs": [],
   "source": []
  }
 ],
 "metadata": {
  "kernelspec": {
   "display_name": "Python 3 (ipykernel)",
   "language": "python",
   "name": "python3"
  },
  "language_info": {
   "codemirror_mode": {
    "name": "ipython",
    "version": 3
   },
   "file_extension": ".py",
   "mimetype": "text/x-python",
   "name": "python",
   "nbconvert_exporter": "python",
   "pygments_lexer": "ipython3",
   "version": "3.9.12"
  }
 },
 "nbformat": 4,
 "nbformat_minor": 5
}
