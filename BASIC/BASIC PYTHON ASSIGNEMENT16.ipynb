{
 "cells": [
  {
   "cell_type": "code",
   "execution_count": null,
   "id": "c014d35b",
   "metadata": {},
   "outputs": [],
   "source": [
    "# 1. Create a list called years_list, starting with the year of your birth, and each year thereafter until the \n",
    "#year of your fifth birthday. For example, if you were born in 1980. the list would be years_list = \n",
    "#[1980, 1981, 1982, 1983, 1984, 1985].\n",
    "ANS -"
   ]
  },
  {
   "cell_type": "code",
   "execution_count": 1,
   "id": "720bad9e",
   "metadata": {},
   "outputs": [
    {
     "data": {
      "text/plain": [
       "[1999, 2000, 2001, 2002, 2003, 2004]"
      ]
     },
     "execution_count": 1,
     "metadata": {},
     "output_type": "execute_result"
    }
   ],
   "source": [
    "# ANS of 1st Q\n",
    "years_list = [i for i in range(1999,1999+6)]\n",
    "years_list"
   ]
  },
  {
   "cell_type": "code",
   "execution_count": null,
   "id": "f59244e1",
   "metadata": {},
   "outputs": [],
   "source": [
    "# 2. In which year in years_list was your third birthday? Remember, you were 0 years of age for your first year.\n",
    "ANS -"
   ]
  },
  {
   "cell_type": "code",
   "execution_count": 2,
   "id": "e5b8334b",
   "metadata": {},
   "outputs": [
    {
     "data": {
      "text/plain": [
       "2002"
      ]
     },
     "execution_count": 2,
     "metadata": {},
     "output_type": "execute_result"
    }
   ],
   "source": [
    "# ANS of 2nd Q\n",
    "years_list[3]"
   ]
  },
  {
   "cell_type": "code",
   "execution_count": null,
   "id": "5685b261",
   "metadata": {},
   "outputs": [],
   "source": [
    "# 3.In the years list, which year were you the oldest?\n",
    "ANS -"
   ]
  },
  {
   "cell_type": "code",
   "execution_count": 3,
   "id": "41b01188",
   "metadata": {},
   "outputs": [
    {
     "data": {
      "text/plain": [
       "2004"
      ]
     },
     "execution_count": 3,
     "metadata": {},
     "output_type": "execute_result"
    }
   ],
   "source": [
    "# ANS of 3rd Q\n",
    "max(years_list)"
   ]
  },
  {
   "cell_type": "code",
   "execution_count": null,
   "id": "48fe8325",
   "metadata": {},
   "outputs": [],
   "source": [
    "# 4. Make a list called things with these three strings as elements: 'mozzarella', 'cinderella','salmonella'.\n",
    "ANS -"
   ]
  },
  {
   "cell_type": "code",
   "execution_count": 4,
   "id": "2c0097bf",
   "metadata": {},
   "outputs": [
    {
     "data": {
      "text/plain": [
       "['mozzarella', 'cinderella', 'salmonella']"
      ]
     },
     "execution_count": 4,
     "metadata": {},
     "output_type": "execute_result"
    }
   ],
   "source": [
    "# ANS of 4th Q\n",
    "things =['mozzarella', 'cinderella','salmonella']\n",
    "things"
   ]
  },
  {
   "cell_type": "code",
   "execution_count": null,
   "id": "a06913f7",
   "metadata": {},
   "outputs": [],
   "source": [
    "# 5. Capitalize the element in things that refers to a person and then print the list. \n",
    "#    Did it change the element in the list?\n",
    "ANS -"
   ]
  },
  {
   "cell_type": "code",
   "execution_count": 5,
   "id": "83153db1",
   "metadata": {},
   "outputs": [
    {
     "name": "stdout",
     "output_type": "stream",
     "text": [
      "Mozzarella\n",
      "Cinderella\n",
      "Salmonella\n"
     ]
    },
    {
     "data": {
      "text/plain": [
       "['mozzarella', 'cinderella', 'salmonella']"
      ]
     },
     "execution_count": 5,
     "metadata": {},
     "output_type": "execute_result"
    }
   ],
   "source": [
    "# ANS of 5th Q\n",
    "for i in things:\n",
    "  print(i.capitalize())\n",
    "things #Did not change the elemnts"
   ]
  },
  {
   "cell_type": "code",
   "execution_count": null,
   "id": "029a1e4d",
   "metadata": {},
   "outputs": [],
   "source": [
    "# 6. Make a surprise list with the elements \"Groucho\", \"Chico\", and \"Harpo\"\n",
    "ANS -"
   ]
  },
  {
   "cell_type": "code",
   "execution_count": 6,
   "id": "3d97d2a7",
   "metadata": {},
   "outputs": [
    {
     "data": {
      "text/plain": [
       "['Groucho', 'Chico', 'Harpo']"
      ]
     },
     "execution_count": 6,
     "metadata": {},
     "output_type": "execute_result"
    }
   ],
   "source": [
    "# ANS of 6th Q\n",
    "surprise = [ \"Groucho\", \"Chico\", \"Harpo\"]\n",
    "surprise"
   ]
  },
  {
   "cell_type": "code",
   "execution_count": null,
   "id": "0ff6bb2b",
   "metadata": {},
   "outputs": [],
   "source": [
    "#7. Lowercase the last element of the surprise list, reverse it, and then capitalize it.\n",
    "ANS -"
   ]
  },
  {
   "cell_type": "code",
   "execution_count": 7,
   "id": "f81da176",
   "metadata": {},
   "outputs": [
    {
     "data": {
      "text/plain": [
       "'harpo'"
      ]
     },
     "execution_count": 7,
     "metadata": {},
     "output_type": "execute_result"
    }
   ],
   "source": [
    "# ANS of 7th Q\n",
    "surprise[-1].lower()"
   ]
  },
  {
   "cell_type": "code",
   "execution_count": 8,
   "id": "b0b76e93",
   "metadata": {},
   "outputs": [
    {
     "data": {
      "text/plain": [
       "'opraH'"
      ]
     },
     "execution_count": 8,
     "metadata": {},
     "output_type": "execute_result"
    }
   ],
   "source": [
    "surprise[-1][::-1]"
   ]
  },
  {
   "cell_type": "code",
   "execution_count": 9,
   "id": "1ad482ec",
   "metadata": {},
   "outputs": [
    {
     "data": {
      "text/plain": [
       "'OPRAH'"
      ]
     },
     "execution_count": 9,
     "metadata": {},
     "output_type": "execute_result"
    }
   ],
   "source": [
    "surprise[-1][::-1].upper()"
   ]
  },
  {
   "cell_type": "code",
   "execution_count": null,
   "id": "54f22b93",
   "metadata": {},
   "outputs": [],
   "source": [
    "#8. Make an English-to-French dictionary called e2f and print it. Here are your starter words: dog is chien, \n",
    "#   cat is chat, and walrus is morse\n",
    "ANS -"
   ]
  },
  {
   "cell_type": "code",
   "execution_count": 10,
   "id": "a92a5361",
   "metadata": {},
   "outputs": [
    {
     "data": {
      "text/plain": [
       "{'dog': 'chien', 'cat': 'chat', 'warlus': 'morse'}"
      ]
     },
     "execution_count": 10,
     "metadata": {},
     "output_type": "execute_result"
    }
   ],
   "source": [
    "## ANS of 8th Q\n",
    "e2f = {\"dog\" : \"chien\", \"cat\" : \"chat\" , \"warlus\" : \"morse\"}\n",
    "e2f"
   ]
  },
  {
   "cell_type": "code",
   "execution_count": null,
   "id": "c84dcfb0",
   "metadata": {},
   "outputs": [],
   "source": [
    "# 9. Write the French word for walrus in your three-word dictionary e2f"
   ]
  },
  {
   "cell_type": "code",
   "execution_count": 11,
   "id": "5a1b4098",
   "metadata": {},
   "outputs": [
    {
     "data": {
      "text/plain": [
       "'morse'"
      ]
     },
     "execution_count": 11,
     "metadata": {},
     "output_type": "execute_result"
    }
   ],
   "source": [
    "# ANS of 9th Q\n",
    "e2f[\"warlus\"]"
   ]
  },
  {
   "cell_type": "code",
   "execution_count": null,
   "id": "62b73a2c",
   "metadata": {},
   "outputs": [],
   "source": [
    "#10. Make a French-to-English dictionary called f2e from e2f. Use the items method\n",
    "ANS -"
   ]
  },
  {
   "cell_type": "code",
   "execution_count": 12,
   "id": "89a66132",
   "metadata": {},
   "outputs": [
    {
     "data": {
      "text/plain": [
       "{'chien': 'dog', 'chat': 'cat', 'morse': 'warlus'}"
      ]
     },
     "execution_count": 12,
     "metadata": {},
     "output_type": "execute_result"
    }
   ],
   "source": [
    "# # ANS of 10th Q\n",
    "f2e = dict((key,value) for value,key in e2f.items())\n",
    "f2e"
   ]
  },
  {
   "cell_type": "code",
   "execution_count": null,
   "id": "9176e2d9",
   "metadata": {},
   "outputs": [],
   "source": [
    "# 11. Print the English version of the French word chien using f2e.\n",
    "ANS -"
   ]
  },
  {
   "cell_type": "code",
   "execution_count": 13,
   "id": "d8f5ec9d",
   "metadata": {},
   "outputs": [
    {
     "data": {
      "text/plain": [
       "'dog'"
      ]
     },
     "execution_count": 13,
     "metadata": {},
     "output_type": "execute_result"
    }
   ],
   "source": [
    "# ANS of 11th Q\n",
    "f2e['chien']"
   ]
  },
  {
   "cell_type": "code",
   "execution_count": null,
   "id": "7b547695",
   "metadata": {},
   "outputs": [],
   "source": [
    "# 12. Make and print a set of English words from the keys in e2f.\n",
    "ANS -"
   ]
  },
  {
   "cell_type": "code",
   "execution_count": 14,
   "id": "f22fbb00",
   "metadata": {},
   "outputs": [
    {
     "name": "stdout",
     "output_type": "stream",
     "text": [
      "dog\n",
      "cat\n",
      "warlus\n"
     ]
    }
   ],
   "source": [
    "# ANS of 12th Q\n",
    "for i in e2f :\n",
    "  print(i)"
   ]
  },
  {
   "cell_type": "code",
   "execution_count": 15,
   "id": "e423e6fa",
   "metadata": {},
   "outputs": [
    {
     "data": {
      "text/plain": [
       "dict_keys(['dog', 'cat', 'warlus'])"
      ]
     },
     "execution_count": 15,
     "metadata": {},
     "output_type": "execute_result"
    }
   ],
   "source": [
    "e2f.keys()"
   ]
  },
  {
   "cell_type": "code",
   "execution_count": null,
   "id": "8bdc3f5d",
   "metadata": {},
   "outputs": [],
   "source": [
    "# 13. Make a multilevel dictionary called life. Use these strings for the topmost keys: 'animals', 'plants', \n",
    "# and 'other'. Make the 'animals' key refer to another dictionary with the keys 'cats', 'octopi', and 'emus'. \n",
    "# Make the 'cats' key refer to a list of strings with the values 'Henri', 'Grumpy', and 'Lucy'. Make all the \n",
    "# other keys refer to empty dictionaries.\n",
    "# ANS -"
   ]
  },
  {
   "cell_type": "code",
   "execution_count": 16,
   "id": "21433be2",
   "metadata": {},
   "outputs": [
    {
     "data": {
      "text/plain": [
       "{'animals': {'cat': ['Henri', 'Grumpy', 'Lucy'], 'octopi': '', 'emus': ''},\n",
       " 'plants': '',\n",
       " 'other': ''}"
      ]
     },
     "execution_count": 16,
     "metadata": {},
     "output_type": "execute_result"
    }
   ],
   "source": [
    "# ANS of 13th Q\n",
    "life ={'animals':{'cat':['Henri', 'Grumpy', 'Lucy'], 'octopi':'', 'emus':''},\n",
    "       'plants' :'',\n",
    "       'other' :'' }\n",
    "life"
   ]
  },
  {
   "cell_type": "code",
   "execution_count": null,
   "id": "f3cc62a1",
   "metadata": {},
   "outputs": [],
   "source": [
    "# 14. Print the top-level keys of life.\n",
    "ANS -"
   ]
  },
  {
   "cell_type": "code",
   "execution_count": 17,
   "id": "c781c6a6",
   "metadata": {},
   "outputs": [
    {
     "data": {
      "text/plain": [
       "dict_keys(['animals', 'plants', 'other'])"
      ]
     },
     "execution_count": 17,
     "metadata": {},
     "output_type": "execute_result"
    }
   ],
   "source": [
    "# ANS of 14th Q\n",
    "life.keys()"
   ]
  },
  {
   "cell_type": "code",
   "execution_count": null,
   "id": "01c9b804",
   "metadata": {},
   "outputs": [],
   "source": [
    "#15. Print the keys for life['animals']\n",
    "ANS -"
   ]
  },
  {
   "cell_type": "code",
   "execution_count": 18,
   "id": "9d2ddb3f",
   "metadata": {},
   "outputs": [
    {
     "data": {
      "text/plain": [
       "dict_keys(['cat', 'octopi', 'emus'])"
      ]
     },
     "execution_count": 18,
     "metadata": {},
     "output_type": "execute_result"
    }
   ],
   "source": [
    "# ANS of 15th Q\n",
    "life['animals'].keys()"
   ]
  },
  {
   "cell_type": "code",
   "execution_count": null,
   "id": "06aa2db8",
   "metadata": {},
   "outputs": [],
   "source": [
    "#16. Print the values for life['animals']['cat']\n",
    "ANS -"
   ]
  },
  {
   "cell_type": "code",
   "execution_count": 19,
   "id": "6cb5bb35",
   "metadata": {},
   "outputs": [
    {
     "data": {
      "text/plain": [
       "['Henri', 'Grumpy', 'Lucy']"
      ]
     },
     "execution_count": 19,
     "metadata": {},
     "output_type": "execute_result"
    }
   ],
   "source": [
    "# ANS of 16th Q\n",
    "life['animals']['cat']"
   ]
  },
  {
   "cell_type": "code",
   "execution_count": null,
   "id": "6b992f2c",
   "metadata": {},
   "outputs": [],
   "source": []
  }
 ],
 "metadata": {
  "kernelspec": {
   "display_name": "Python 3 (ipykernel)",
   "language": "python",
   "name": "python3"
  },
  "language_info": {
   "codemirror_mode": {
    "name": "ipython",
    "version": 3
   },
   "file_extension": ".py",
   "mimetype": "text/x-python",
   "name": "python",
   "nbconvert_exporter": "python",
   "pygments_lexer": "ipython3",
   "version": "3.9.12"
  }
 },
 "nbformat": 4,
 "nbformat_minor": 5
}
