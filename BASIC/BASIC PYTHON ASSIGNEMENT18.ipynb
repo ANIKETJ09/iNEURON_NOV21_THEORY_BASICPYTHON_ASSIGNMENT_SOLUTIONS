{
 "cells": [
  {
   "cell_type": "code",
   "execution_count": null,
   "id": "655afe7b",
   "metadata": {},
   "outputs": [],
   "source": [
    "#1. Create a zoo.py file first. Define the hours() function, which prints the string 'Open 9-5 daily'.\n",
    "#   Then, use the interactive interpreter to import the zoo module and call its hours() function\n",
    "ANS -"
   ]
  },
  {
   "cell_type": "code",
   "execution_count": 3,
   "id": "440e62cb",
   "metadata": {},
   "outputs": [
    {
     "name": "stdout",
     "output_type": "stream",
     "text": [
      "Collecting model-zoo\n",
      "  Downloading model_zoo-0.4.1-py2.py3-none-any.whl (20 kB)\n",
      "Requirement already satisfied: pyyaml>=5.1.2 in /opt/anaconda3/lib/python3.9/site-packages (from model-zoo) (6.0)\n",
      "Requirement already satisfied: scipy>=1.1.0 in /opt/anaconda3/lib/python3.9/site-packages (from model-zoo) (1.7.3)\n",
      "Requirement already satisfied: absl-py>=0.5.0 in /opt/anaconda3/lib/python3.9/site-packages (from model-zoo) (1.3.0)\n",
      "Requirement already satisfied: matplotlib>=3.0.0 in /opt/anaconda3/lib/python3.9/site-packages (from model-zoo) (3.5.1)\n",
      "Requirement already satisfied: numpy>=1.15.2 in /opt/anaconda3/lib/python3.9/site-packages (from model-zoo) (1.21.5)\n",
      "Requirement already satisfied: cycler>=0.10.0 in /opt/anaconda3/lib/python3.9/site-packages (from model-zoo) (0.11.0)\n",
      "Requirement already satisfied: protobuf>=3.6.1 in /opt/anaconda3/lib/python3.9/site-packages (from model-zoo) (3.19.1)\n",
      "Requirement already satisfied: six>=1.11.0 in /opt/anaconda3/lib/python3.9/site-packages (from model-zoo) (1.16.0)\n",
      "Requirement already satisfied: tensorflow>=2.0.0 in /opt/anaconda3/lib/python3.9/site-packages (from model-zoo) (2.11.0)\n",
      "Requirement already satisfied: werkzeug>=0.15.3 in /opt/anaconda3/lib/python3.9/site-packages (from model-zoo) (2.2.2)\n",
      "Requirement already satisfied: h5py>=2.8.0 in /opt/anaconda3/lib/python3.9/site-packages (from model-zoo) (3.6.0)\n",
      "Requirement already satisfied: termcolor>=1.1.0 in /opt/anaconda3/lib/python3.9/site-packages (from model-zoo) (2.1.1)\n",
      "Collecting sklearn\n",
      "  Downloading sklearn-0.0.post7.tar.gz (3.6 kB)\n",
      "Collecting loguru>=0.3.2\n",
      "  Downloading loguru-0.7.0-py3-none-any.whl (59 kB)\n",
      "\u001b[K     |████████████████████████████████| 59 kB 2.3 MB/s eta 0:00:011\n",
      "\u001b[?25hCollecting astor>=0.7.1\n",
      "  Downloading astor-0.8.1-py2.py3-none-any.whl (27 kB)\n",
      "Requirement already satisfied: pyparsing>=2.2.2 in /opt/anaconda3/lib/python3.9/site-packages (from model-zoo) (3.0.4)\n",
      "Requirement already satisfied: pandas>=0.23.4 in /opt/anaconda3/lib/python3.9/site-packages (from model-zoo) (1.4.2)\n",
      "Requirement already satisfied: kiwisolver>=1.0.1 in /opt/anaconda3/lib/python3.9/site-packages (from model-zoo) (1.3.2)\n",
      "Requirement already satisfied: packaging>=20.0 in /opt/anaconda3/lib/python3.9/site-packages (from matplotlib>=3.0.0->model-zoo) (21.3)\n",
      "Requirement already satisfied: python-dateutil>=2.7 in /opt/anaconda3/lib/python3.9/site-packages (from matplotlib>=3.0.0->model-zoo) (2.8.2)\n",
      "Requirement already satisfied: fonttools>=4.22.0 in /opt/anaconda3/lib/python3.9/site-packages (from matplotlib>=3.0.0->model-zoo) (4.25.0)\n",
      "Requirement already satisfied: pillow>=6.2.0 in /opt/anaconda3/lib/python3.9/site-packages (from matplotlib>=3.0.0->model-zoo) (9.0.1)\n",
      "Requirement already satisfied: pytz>=2020.1 in /opt/anaconda3/lib/python3.9/site-packages (from pandas>=0.23.4->model-zoo) (2021.3)\n",
      "Requirement already satisfied: typing-extensions>=3.6.6 in /opt/anaconda3/lib/python3.9/site-packages (from tensorflow>=2.0.0->model-zoo) (4.1.1)\n",
      "Requirement already satisfied: tensorboard<2.12,>=2.11 in /opt/anaconda3/lib/python3.9/site-packages (from tensorflow>=2.0.0->model-zoo) (2.11.0)\n",
      "Requirement already satisfied: keras<2.12,>=2.11.0 in /opt/anaconda3/lib/python3.9/site-packages (from tensorflow>=2.0.0->model-zoo) (2.11.0)\n",
      "Requirement already satisfied: tensorflow-estimator<2.12,>=2.11.0 in /opt/anaconda3/lib/python3.9/site-packages (from tensorflow>=2.0.0->model-zoo) (2.11.0)\n",
      "Requirement already satisfied: wrapt>=1.11.0 in /opt/anaconda3/lib/python3.9/site-packages (from tensorflow>=2.0.0->model-zoo) (1.12.1)\n",
      "Requirement already satisfied: tensorflow-io-gcs-filesystem>=0.23.1 in /opt/anaconda3/lib/python3.9/site-packages (from tensorflow>=2.0.0->model-zoo) (0.28.0)\n",
      "Requirement already satisfied: libclang>=13.0.0 in /opt/anaconda3/lib/python3.9/site-packages (from tensorflow>=2.0.0->model-zoo) (14.0.6)\n",
      "Requirement already satisfied: google-pasta>=0.1.1 in /opt/anaconda3/lib/python3.9/site-packages (from tensorflow>=2.0.0->model-zoo) (0.2.0)\n",
      "Requirement already satisfied: opt-einsum>=2.3.2 in /opt/anaconda3/lib/python3.9/site-packages (from tensorflow>=2.0.0->model-zoo) (3.3.0)\n",
      "Requirement already satisfied: setuptools in /opt/anaconda3/lib/python3.9/site-packages (from tensorflow>=2.0.0->model-zoo) (61.2.0)\n",
      "Requirement already satisfied: astunparse>=1.6.0 in /opt/anaconda3/lib/python3.9/site-packages (from tensorflow>=2.0.0->model-zoo) (1.6.3)\n",
      "Requirement already satisfied: flatbuffers>=2.0 in /opt/anaconda3/lib/python3.9/site-packages (from tensorflow>=2.0.0->model-zoo) (22.12.6)\n",
      "Requirement already satisfied: gast<=0.4.0,>=0.2.1 in /opt/anaconda3/lib/python3.9/site-packages (from tensorflow>=2.0.0->model-zoo) (0.4.0)\n",
      "Requirement already satisfied: grpcio<2.0,>=1.24.3 in /opt/anaconda3/lib/python3.9/site-packages (from tensorflow>=2.0.0->model-zoo) (1.42.0)\n",
      "Requirement already satisfied: wheel<1.0,>=0.23.0 in /opt/anaconda3/lib/python3.9/site-packages (from astunparse>=1.6.0->tensorflow>=2.0.0->model-zoo) (0.37.1)\n",
      "Requirement already satisfied: google-auth-oauthlib<0.5,>=0.4.1 in /opt/anaconda3/lib/python3.9/site-packages (from tensorboard<2.12,>=2.11->tensorflow>=2.0.0->model-zoo) (0.4.6)\n",
      "Requirement already satisfied: tensorboard-data-server<0.7.0,>=0.6.0 in /opt/anaconda3/lib/python3.9/site-packages (from tensorboard<2.12,>=2.11->tensorflow>=2.0.0->model-zoo) (0.6.1)\n",
      "Requirement already satisfied: tensorboard-plugin-wit>=1.6.0 in /opt/anaconda3/lib/python3.9/site-packages (from tensorboard<2.12,>=2.11->tensorflow>=2.0.0->model-zoo) (1.8.1)\n",
      "Requirement already satisfied: google-auth<3,>=1.6.3 in /opt/anaconda3/lib/python3.9/site-packages (from tensorboard<2.12,>=2.11->tensorflow>=2.0.0->model-zoo) (1.33.0)\n",
      "Requirement already satisfied: requests<3,>=2.21.0 in /opt/anaconda3/lib/python3.9/site-packages (from tensorboard<2.12,>=2.11->tensorflow>=2.0.0->model-zoo) (2.27.1)\n",
      "Requirement already satisfied: markdown>=2.6.8 in /opt/anaconda3/lib/python3.9/site-packages (from tensorboard<2.12,>=2.11->tensorflow>=2.0.0->model-zoo) (3.3.4)\n",
      "Requirement already satisfied: pyasn1-modules>=0.2.1 in /opt/anaconda3/lib/python3.9/site-packages (from google-auth<3,>=1.6.3->tensorboard<2.12,>=2.11->tensorflow>=2.0.0->model-zoo) (0.2.8)\n",
      "Requirement already satisfied: rsa<5,>=3.1.4 in /opt/anaconda3/lib/python3.9/site-packages (from google-auth<3,>=1.6.3->tensorboard<2.12,>=2.11->tensorflow>=2.0.0->model-zoo) (4.7.2)\n",
      "Requirement already satisfied: cachetools<5.0,>=2.0.0 in /opt/anaconda3/lib/python3.9/site-packages (from google-auth<3,>=1.6.3->tensorboard<2.12,>=2.11->tensorflow>=2.0.0->model-zoo) (4.2.2)\n",
      "Requirement already satisfied: requests-oauthlib>=0.7.0 in /opt/anaconda3/lib/python3.9/site-packages (from google-auth-oauthlib<0.5,>=0.4.1->tensorboard<2.12,>=2.11->tensorflow>=2.0.0->model-zoo) (1.3.1)\n",
      "Requirement already satisfied: pyasn1<0.5.0,>=0.4.6 in /opt/anaconda3/lib/python3.9/site-packages (from pyasn1-modules>=0.2.1->google-auth<3,>=1.6.3->tensorboard<2.12,>=2.11->tensorflow>=2.0.0->model-zoo) (0.4.8)\n",
      "Requirement already satisfied: urllib3<1.27,>=1.21.1 in /opt/anaconda3/lib/python3.9/site-packages (from requests<3,>=2.21.0->tensorboard<2.12,>=2.11->tensorflow>=2.0.0->model-zoo) (1.26.9)\n",
      "Requirement already satisfied: certifi>=2017.4.17 in /opt/anaconda3/lib/python3.9/site-packages (from requests<3,>=2.21.0->tensorboard<2.12,>=2.11->tensorflow>=2.0.0->model-zoo) (2021.10.8)\n",
      "Requirement already satisfied: charset-normalizer~=2.0.0 in /opt/anaconda3/lib/python3.9/site-packages (from requests<3,>=2.21.0->tensorboard<2.12,>=2.11->tensorflow>=2.0.0->model-zoo) (2.0.4)\n",
      "Requirement already satisfied: idna<4,>=2.5 in /opt/anaconda3/lib/python3.9/site-packages (from requests<3,>=2.21.0->tensorboard<2.12,>=2.11->tensorflow>=2.0.0->model-zoo) (3.3)\n",
      "Requirement already satisfied: oauthlib>=3.0.0 in /opt/anaconda3/lib/python3.9/site-packages (from requests-oauthlib>=0.7.0->google-auth-oauthlib<0.5,>=0.4.1->tensorboard<2.12,>=2.11->tensorflow>=2.0.0->model-zoo) (3.2.2)\n",
      "Requirement already satisfied: MarkupSafe>=2.1.1 in /opt/anaconda3/lib/python3.9/site-packages (from werkzeug>=0.15.3->model-zoo) (2.1.2)\n",
      "Building wheels for collected packages: sklearn\n"
     ]
    },
    {
     "name": "stdout",
     "output_type": "stream",
     "text": [
      "  Building wheel for sklearn (setup.py) ... \u001b[?25ldone\n",
      "\u001b[?25h  Created wheel for sklearn: filename=sklearn-0.0.post7-py3-none-any.whl size=2975 sha256=d295f101fdb750ce29b1c4c95b869bef18afe5be22619b36771469a98ffcbb3b\n",
      "  Stored in directory: /Users/aniketsatishjoshi/Library/Caches/pip/wheels/f3/6d/ba/d999da6dff3d5cc6735e9855579fa236bf7c5bdbb210a873b8\n",
      "Successfully built sklearn\n",
      "Installing collected packages: sklearn, loguru, astor, model-zoo\n",
      "Successfully installed astor-0.8.1 loguru-0.7.0 model-zoo-0.4.1 sklearn-0.0.post7\n",
      "Note: you may need to restart the kernel to use updated packages.\n"
     ]
    }
   ],
   "source": [
    "pip install model-zoo"
   ]
  },
  {
   "cell_type": "code",
   "execution_count": 13,
   "id": "ae69d22b",
   "metadata": {},
   "outputs": [
    {
     "name": "stdout",
     "output_type": "stream",
     "text": [
      "Collecting zoo\n",
      "  Downloading zoo-0.1a0.tar.gz (803 bytes)\n",
      "Building wheels for collected packages: zoo\n",
      "  Building wheel for zoo (setup.py) ... \u001b[?25ldone\n",
      "\u001b[?25h  Created wheel for zoo: filename=zoo-0.1a0-py3-none-any.whl size=1233 sha256=8f3fd5c3d3951f874f856d559dda91f2710ef8d1b677d50e16a5afffac5d7a49\n",
      "  Stored in directory: /Users/aniketsatishjoshi/Library/Caches/pip/wheels/ea/e5/f1/814f8929b4b1b2af656771311b5401caf104857a9bff1715a1\n",
      "Successfully built zoo\n",
      "Installing collected packages: zoo\n",
      "Successfully installed zoo-0.1a0\n",
      "Note: you may need to restart the kernel to use updated packages.\n"
     ]
    }
   ],
   "source": [
    "pip install zoo"
   ]
  },
  {
   "cell_type": "code",
   "execution_count": null,
   "id": "93b52e3a",
   "metadata": {},
   "outputs": [],
   "source": [
    "import zoo \n",
    "from importlib import reload\n",
    "reload(zoo)\n",
    "zoo.hours()"
   ]
  },
  {
   "cell_type": "code",
   "execution_count": null,
   "id": "a74399d4",
   "metadata": {},
   "outputs": [],
   "source": [
    "#2. In the interactive interpreter, import the zoo module as menagerie and call its hours() function.\n",
    "ANS -"
   ]
  },
  {
   "cell_type": "code",
   "execution_count": null,
   "id": "2538b161",
   "metadata": {},
   "outputs": [],
   "source": [
    "import zoo as menagerie"
   ]
  },
  {
   "cell_type": "code",
   "execution_count": null,
   "id": "b5b7b854",
   "metadata": {},
   "outputs": [],
   "source": [
    "menagerie.hours()"
   ]
  },
  {
   "cell_type": "code",
   "execution_count": null,
   "id": "8c45db80",
   "metadata": {},
   "outputs": [],
   "source": [
    "#3. Using the interpreter, explicitly import and call the hours() function from the zoo.\n",
    "ANS -"
   ]
  },
  {
   "cell_type": "code",
   "execution_count": null,
   "id": "343d6655",
   "metadata": {},
   "outputs": [],
   "source": [
    "from zoo import hours\n",
    "hours()"
   ]
  },
  {
   "cell_type": "code",
   "execution_count": null,
   "id": "b019b564",
   "metadata": {},
   "outputs": [],
   "source": [
    "#4.Import the hours() finction as info and call it\n",
    "ANS -"
   ]
  },
  {
   "cell_type": "code",
   "execution_count": null,
   "id": "ce42b039",
   "metadata": {},
   "outputs": [],
   "source": [
    "from zoo import hours as info\n",
    "info()"
   ]
  },
  {
   "cell_type": "code",
   "execution_count": null,
   "id": "1f1e589d",
   "metadata": {},
   "outputs": [],
   "source": [
    "# 5. Create a plain dictionary with the key-value pairs 'x': 1, 'y': 2, 'z': 3, and print it out.\n",
    "ANS -"
   ]
  },
  {
   "cell_type": "code",
   "execution_count": null,
   "id": "83ef41b7",
   "metadata": {},
   "outputs": [],
   "source": [
    "plain = {'x': 1, 'y': 2, 'z': 3}\n",
    "plain"
   ]
  },
  {
   "cell_type": "code",
   "execution_count": null,
   "id": "a48269a4",
   "metadata": {},
   "outputs": [],
   "source": [
    "# 6.Make an OrderedDict called fancy from the same pairs listed in 5 and print it. \n",
    "#   Did it print in the same order as plain?\n",
    "ANS -"
   ]
  },
  {
   "cell_type": "code",
   "execution_count": null,
   "id": "bd8b2839",
   "metadata": {},
   "outputs": [],
   "source": [
    "from collections import OrderedDict\n",
    "fancy = OrderedDict([('x',1),('y',2),('z',3)])\n",
    "print(fancy) \n",
    "print(\"yes it's prints in the same order as plain\")"
   ]
  },
  {
   "cell_type": "code",
   "execution_count": null,
   "id": "a2b44961",
   "metadata": {},
   "outputs": [],
   "source": [
    "# 7. Make a defaultdict called dict_of_lists and pass it the argument list. \n",
    "# Make the list dict_of_lists['a'] and append the value 'something for a' to it in one assignment. \n",
    "# Print dict_of_lists['a']\n",
    "ANS -"
   ]
  },
  {
   "cell_type": "code",
   "execution_count": null,
   "id": "e67e233e",
   "metadata": {},
   "outputs": [],
   "source": [
    "from collections import defaultdict\n",
    "dict_of_list = defaultdict(list)\n",
    "dict_of_list['x'].append('something for x')\n",
    "dict_of_list['x']"
   ]
  }
 ],
 "metadata": {
  "kernelspec": {
   "display_name": "Python 3 (ipykernel)",
   "language": "python",
   "name": "python3"
  },
  "language_info": {
   "codemirror_mode": {
    "name": "ipython",
    "version": 3
   },
   "file_extension": ".py",
   "mimetype": "text/x-python",
   "name": "python",
   "nbconvert_exporter": "python",
   "pygments_lexer": "ipython3",
   "version": "3.9.12"
  }
 },
 "nbformat": 4,
 "nbformat_minor": 5
}
