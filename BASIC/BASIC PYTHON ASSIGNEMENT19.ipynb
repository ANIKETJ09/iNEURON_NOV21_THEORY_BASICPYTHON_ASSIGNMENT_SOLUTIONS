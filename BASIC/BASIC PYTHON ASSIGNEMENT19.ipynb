{
 "cells": [
  {
   "cell_type": "code",
   "execution_count": null,
   "id": "6ed6fb74",
   "metadata": {},
   "outputs": [],
   "source": [
    "# 1. Make a class called Thing with no contents and print it. Then, create an object called example from this\n",
    "# class and also print it. Are the printed values the same or different?\n",
    "ANS -"
   ]
  },
  {
   "cell_type": "code",
   "execution_count": 1,
   "id": "46cc1062",
   "metadata": {},
   "outputs": [
    {
     "name": "stdout",
     "output_type": "stream",
     "text": [
      "<class '__main__.Thing'>\n"
     ]
    }
   ],
   "source": [
    "class Thing :\n",
    "  pass\n",
    "print(Thing)"
   ]
  },
  {
   "cell_type": "code",
   "execution_count": 2,
   "id": "0f763773",
   "metadata": {},
   "outputs": [
    {
     "name": "stdout",
     "output_type": "stream",
     "text": [
      "<__main__.Thing object at 0x7f892b538d90>\n"
     ]
    }
   ],
   "source": [
    "example = Thing()\n",
    "print(example)"
   ]
  },
  {
   "cell_type": "code",
   "execution_count": null,
   "id": "abe37a3b",
   "metadata": {},
   "outputs": [],
   "source": [
    "# Printed values are not same"
   ]
  },
  {
   "cell_type": "code",
   "execution_count": null,
   "id": "838791ab",
   "metadata": {},
   "outputs": [],
   "source": [
    "# 2. Create a new class called Thing2 and add the value 'abc' to the letters class attribute. \n",
    "#    Letters should be printed\n",
    "ANS -"
   ]
  },
  {
   "cell_type": "code",
   "execution_count": 3,
   "id": "e5d54bb8",
   "metadata": {},
   "outputs": [
    {
     "data": {
      "text/plain": [
       "'abc'"
      ]
     },
     "execution_count": 3,
     "metadata": {},
     "output_type": "execute_result"
    }
   ],
   "source": [
    "class Things2:\n",
    "  letters = \"abc\"\n",
    "Things2.letters"
   ]
  },
  {
   "cell_type": "code",
   "execution_count": null,
   "id": "ab9155de",
   "metadata": {},
   "outputs": [],
   "source": [
    "# 3. Make yet another class called, of course, Thing3. This time, assign the value 'xyz' to an instance \n",
    "# (object) attribute called letters. Print letters. Do you need to make an object from the class to do this?\n",
    "ANS -"
   ]
  },
  {
   "cell_type": "code",
   "execution_count": 4,
   "id": "db10fccd",
   "metadata": {},
   "outputs": [
    {
     "name": "stdout",
     "output_type": "stream",
     "text": [
      "xyz\n"
     ]
    }
   ],
   "source": [
    "class Things3 :\n",
    "  def __init__(self,letter):\n",
    "    self.letter = letter\n",
    "  def letters(self):\n",
    "    print(self.letter)\n",
    "Things3(\"xyz\").letters()"
   ]
  },
  {
   "cell_type": "code",
   "execution_count": null,
   "id": "65dfd1f4",
   "metadata": {},
   "outputs": [],
   "source": [
    "# 4. Create an Element class with the instance attributes name, symbol, and number. Create a class object with \n",
    "#    the values 'Hydrogen','H' and 1.\n",
    "ANS -"
   ]
  },
  {
   "cell_type": "code",
   "execution_count": 5,
   "id": "0e42748a",
   "metadata": {},
   "outputs": [],
   "source": [
    "class Element:\n",
    "  def __init__(self,name,symbol,number):\n",
    "    self.name = name\n",
    "    self.symbol = symbol\n",
    "    self.number = number\n",
    "  def Print_them(self):\n",
    "    print(self.name,self.symbol,self.number)"
   ]
  },
  {
   "cell_type": "code",
   "execution_count": null,
   "id": "94cb1b0f",
   "metadata": {},
   "outputs": [],
   "source": [
    "object = Element(\"Hydrogen\", \"H\", \"1\")\n",
    "print(object.name , object.symbol , object.number)"
   ]
  },
  {
   "cell_type": "code",
   "execution_count": null,
   "id": "6a620cc0",
   "metadata": {},
   "outputs": [],
   "source": [
    "# 5. Make a dictionary with these keys and values: 'name' 'Hydrogen' 'symbol' 'H', 'number' 1.\n",
    "#    Then,create an object called hydrogen from class Element using this dictionary.\n",
    "ANS -"
   ]
  },
  {
   "cell_type": "code",
   "execution_count": 6,
   "id": "3248d4c6",
   "metadata": {},
   "outputs": [],
   "source": [
    "dict = {'name':'Hydrogen','symbol':'H','number':1}"
   ]
  },
  {
   "cell_type": "code",
   "execution_count": 7,
   "id": "f6afa93f",
   "metadata": {},
   "outputs": [],
   "source": [
    "Hydrogen = Element(**dict)"
   ]
  },
  {
   "cell_type": "code",
   "execution_count": 8,
   "id": "338d9549",
   "metadata": {},
   "outputs": [
    {
     "name": "stdout",
     "output_type": "stream",
     "text": [
      "Hydrogen H 1\n"
     ]
    }
   ],
   "source": [
    "print(Hydrogen.name , Hydrogen.symbol , Hydrogen.number)"
   ]
  },
  {
   "cell_type": "code",
   "execution_count": null,
   "id": "2cc25b66",
   "metadata": {},
   "outputs": [],
   "source": [
    "# 6. For the Element class, define a method called dump()that prints the values of the object’s attributes \n",
    "#   (name, symbol, and number). Create the hydrogen object from this new definition and use dump() to print its attributes.\n",
    "ANS -"
   ]
  },
  {
   "cell_type": "code",
   "execution_count": 9,
   "id": "a6b8e5c0",
   "metadata": {},
   "outputs": [],
   "source": [
    "class Element:\n",
    "  def __init__(self,name,symbol,number):\n",
    "    self.name = name\n",
    "    self.symbol = symbol\n",
    "    self.number = number\n",
    "  def dump(self):\n",
    "    print(self.name,self.symbol,self.number)"
   ]
  },
  {
   "cell_type": "code",
   "execution_count": 10,
   "id": "28df038a",
   "metadata": {},
   "outputs": [
    {
     "name": "stdout",
     "output_type": "stream",
     "text": [
      "name symbol number\n"
     ]
    }
   ],
   "source": [
    "hydrogen = Element(\"name\", \"symbol\",  \"number\")\n",
    "hydrogen.dump()"
   ]
  },
  {
   "cell_type": "code",
   "execution_count": null,
   "id": "94d670e9",
   "metadata": {},
   "outputs": [],
   "source": [
    "# 7. Call print(hydrogen). In the definition of Element, change the name of method dump to str,\n",
    "#    create a new hydrogen object, and call print(hydrogen) again.\n",
    "ANS -"
   ]
  },
  {
   "cell_type": "code",
   "execution_count": 11,
   "id": "88664bd8",
   "metadata": {},
   "outputs": [],
   "source": [
    "class Element:\n",
    "  def __init__(self,name,symbol,number):\n",
    "    self.name = name\n",
    "    self.symbol = symbol\n",
    "    self.number = number\n",
    "  def __str__(self):\n",
    "    return(\"name=%s , symbol=%s , number=%s\"% (self.name,self.symbol,self.number))"
   ]
  },
  {
   "cell_type": "code",
   "execution_count": 12,
   "id": "0d9c4484",
   "metadata": {},
   "outputs": [
    {
     "name": "stdout",
     "output_type": "stream",
     "text": [
      "name=Hydrogen , symbol=H , number=1\n"
     ]
    }
   ],
   "source": [
    "hydrogen = Element('Hydrogen','H',1)\n",
    "print(hydrogen)"
   ]
  },
  {
   "cell_type": "code",
   "execution_count": null,
   "id": "0cc47ee8",
   "metadata": {},
   "outputs": [],
   "source": [
    "# 8. Modify Element to make the attributes name, symbol, and number private. \n",
    "#    Define a getter property for each to return its value\n",
    "ANS "
   ]
  },
  {
   "cell_type": "code",
   "execution_count": 13,
   "id": "812d6f4a",
   "metadata": {},
   "outputs": [],
   "source": [
    "class Element():\n",
    "  def __init__(self,name,symbol,number):\n",
    "    self.__name = name\n",
    "    self.__symbol = symbol\n",
    "    self.__number = number\n",
    "  @property\n",
    "  def name(self): \n",
    "    return (self.__name)\n",
    "  @property \n",
    "  def symbol(self):\n",
    "    return(self.__symbol)\n",
    "  @property\n",
    "  def number(self):\n",
    "    return(self.__number)"
   ]
  },
  {
   "cell_type": "code",
   "execution_count": 14,
   "id": "2db8b15c",
   "metadata": {},
   "outputs": [
    {
     "data": {
      "text/plain": [
       "'Hydrogen'"
      ]
     },
     "execution_count": 14,
     "metadata": {},
     "output_type": "execute_result"
    }
   ],
   "source": [
    "hydrogen = Element('Hydrogen','H',1)\n",
    "hydrogen.name"
   ]
  },
  {
   "cell_type": "code",
   "execution_count": null,
   "id": "45c1031e",
   "metadata": {},
   "outputs": [],
   "source": [
    "# 9. Define three classes: Bear, Rabbit, and Octothorpe. For each, define only one method: eats(). \n",
    "#    This should return 'berries' (Bear), 'clover' (Rabbit), or 'campers' (Octothorpe). Create one object \n",
    "#    from each and print what it eats.\n",
    "ANS -"
   ]
  },
  {
   "cell_type": "code",
   "execution_count": 16,
   "id": "4d909e6c",
   "metadata": {},
   "outputs": [],
   "source": [
    "class Bear():\n",
    "  def eats():\n",
    "    print(\"berries\")\n",
    "\n",
    "class Rabbit:\n",
    "  def eats():\n",
    "    print(\"clover\")\n",
    "\n",
    "class Octothorpe():\n",
    "  def eats():\n",
    "    print(\"campers\")"
   ]
  },
  {
   "cell_type": "code",
   "execution_count": 17,
   "id": "a0533ee5",
   "metadata": {},
   "outputs": [
    {
     "name": "stdout",
     "output_type": "stream",
     "text": [
      "berries\n"
     ]
    }
   ],
   "source": [
    "Bear.eats()"
   ]
  },
  {
   "cell_type": "code",
   "execution_count": 18,
   "id": "5927bc25",
   "metadata": {},
   "outputs": [
    {
     "name": "stdout",
     "output_type": "stream",
     "text": [
      "clover\n"
     ]
    }
   ],
   "source": [
    "Rabbit.eats()"
   ]
  },
  {
   "cell_type": "code",
   "execution_count": 19,
   "id": "c2391238",
   "metadata": {},
   "outputs": [
    {
     "name": "stdout",
     "output_type": "stream",
     "text": [
      "campers\n"
     ]
    }
   ],
   "source": [
    "Octothorpe.eats()"
   ]
  },
  {
   "cell_type": "code",
   "execution_count": null,
   "id": "29925856",
   "metadata": {},
   "outputs": [],
   "source": [
    "# 10. Define these classes: Laser, Claw, and SmartPhone. Each has only one method: does(). \n",
    "# This returns 'disintegrate' (Laser), 'crush' (Claw), or 'ring' (SmartPhone). \n",
    "# Then, define the class Robot that has one instance (object) of each of these. Define a does() method for \n",
    "# the Robot that prints what its component objects do.\n",
    "ANS -"
   ]
  },
  {
   "cell_type": "code",
   "execution_count": 20,
   "id": "915fe420",
   "metadata": {},
   "outputs": [],
   "source": [
    "class Laser:\n",
    "  def does(self):\n",
    "    return(\"disintegrate\")\n",
    "    \n",
    "class Claw :\n",
    "  def does(self):\n",
    "    return(\"crush\")\n",
    "\n",
    "class SmartPhone :\n",
    "  def does(self):\n",
    "    return(\"ring\")\n",
    "\n",
    "class Robot :\n",
    "  def __init__(self):\n",
    "    self.laser = Laser()\n",
    "    self.claw = Claw()\n",
    "    self.smartphone = SmartPhone()\n",
    "  def does(self) :\n",
    "    return (\"Laser is %s, Claw is %s, SmartPhone is %s\" % (self.laser.does(),self.claw.does(),self.smartphone.does()))"
   ]
  },
  {
   "cell_type": "code",
   "execution_count": 21,
   "id": "63732a9f",
   "metadata": {},
   "outputs": [],
   "source": [
    "robo = Robot()"
   ]
  },
  {
   "cell_type": "code",
   "execution_count": 22,
   "id": "7f43961c",
   "metadata": {},
   "outputs": [
    {
     "data": {
      "text/plain": [
       "'Laser is disintegrate, Claw is crush, SmartPhone is ring'"
      ]
     },
     "execution_count": 22,
     "metadata": {},
     "output_type": "execute_result"
    }
   ],
   "source": [
    "robo.does()"
   ]
  },
  {
   "cell_type": "code",
   "execution_count": null,
   "id": "0260e063",
   "metadata": {},
   "outputs": [],
   "source": []
  }
 ],
 "metadata": {
  "kernelspec": {
   "display_name": "Python 3 (ipykernel)",
   "language": "python",
   "name": "python3"
  },
  "language_info": {
   "codemirror_mode": {
    "name": "ipython",
    "version": 3
   },
   "file_extension": ".py",
   "mimetype": "text/x-python",
   "name": "python",
   "nbconvert_exporter": "python",
   "pygments_lexer": "ipython3",
   "version": "3.9.12"
  }
 },
 "nbformat": 4,
 "nbformat_minor": 5
}
