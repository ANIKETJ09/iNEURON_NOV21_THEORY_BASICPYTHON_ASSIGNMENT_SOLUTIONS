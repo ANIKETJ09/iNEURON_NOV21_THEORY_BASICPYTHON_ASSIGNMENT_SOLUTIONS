{
 "cells": [
  {
   "cell_type": "code",
   "execution_count": null,
   "id": "6bbd916c",
   "metadata": {},
   "outputs": [],
   "source": [
    "# 1. Add the current date to the text file today.txt as a string.\n",
    "ANS -"
   ]
  },
  {
   "cell_type": "code",
   "execution_count": 1,
   "id": "97ed3719",
   "metadata": {},
   "outputs": [
    {
     "data": {
      "text/plain": [
       "'2023-08-22'"
      ]
     },
     "execution_count": 1,
     "metadata": {},
     "output_type": "execute_result"
    }
   ],
   "source": [
    "from datetime import date \n",
    "now = date.today()\n",
    "cur_date = now.isoformat()\n",
    "cur_date"
   ]
  },
  {
   "cell_type": "code",
   "execution_count": 2,
   "id": "eb3dcc79",
   "metadata": {},
   "outputs": [],
   "source": [
    "with open('today.txt' , 'w') as file :\n",
    "  file.write(cur_date)"
   ]
  },
  {
   "cell_type": "code",
   "execution_count": null,
   "id": "73f7d243",
   "metadata": {},
   "outputs": [],
   "source": [
    "# 2. Read the text file today.txt into the string today_string\n",
    "ANS -"
   ]
  },
  {
   "cell_type": "code",
   "execution_count": 3,
   "id": "bda62fa6",
   "metadata": {},
   "outputs": [
    {
     "data": {
      "text/plain": [
       "'2023-08-22'"
      ]
     },
     "execution_count": 3,
     "metadata": {},
     "output_type": "execute_result"
    }
   ],
   "source": [
    "with open('today.txt' , 'r') as file:\n",
    "  today_string = file.read()\n",
    "today_string"
   ]
  },
  {
   "cell_type": "code",
   "execution_count": null,
   "id": "f16b2e17",
   "metadata": {},
   "outputs": [],
   "source": [
    "# 3.Parse the date from today_string.\n",
    "ANS -"
   ]
  },
  {
   "cell_type": "code",
   "execution_count": 4,
   "id": "40b1548f",
   "metadata": {},
   "outputs": [
    {
     "data": {
      "text/plain": [
       "datetime.datetime(2023, 8, 22, 0, 0)"
      ]
     },
     "execution_count": 4,
     "metadata": {},
     "output_type": "execute_result"
    }
   ],
   "source": [
    "from datetime import datetime\n",
    "format = '%Y-%m-%d'\n",
    "datetime.strptime(today_string,format)"
   ]
  },
  {
   "cell_type": "code",
   "execution_count": null,
   "id": "d15efa0a",
   "metadata": {},
   "outputs": [],
   "source": [
    "# 4. List the files in your current directory\n",
    "ANS -"
   ]
  },
  {
   "cell_type": "code",
   "execution_count": 5,
   "id": "5695b958",
   "metadata": {
    "scrolled": true
   },
   "outputs": [
    {
     "data": {
      "text/plain": [
       "['NEW_COMPLETE_SQL.sql',\n",
       " 'BASIC PYTHON ASSIGNEMENT21.ipynb',\n",
       " 'FINANCIAL MODELLING NOTES',\n",
       " 'FINANCE & BANKING.pdf',\n",
       " 'programLog.txt',\n",
       " 'BASIC PYTHON ASSIGNEMENT23.ipynb',\n",
       " 'ENERGY ANALYST COURSE BROCHURE.pdf',\n",
       " '.DS_Store',\n",
       " 'BASIC PYTHON ASSIGNEMENT18.ipynb',\n",
       " '.localized',\n",
       " 'BASIC PYTHON ASSIGNEMENT25.ipynb',\n",
       " '2022_AAAI_tutorial_web.pdf',\n",
       " 'today.txt',\n",
       " 'BASIC PYTHON ASSIGNEMENT22.ipynb',\n",
       " 'BABA',\n",
       " 'BASIC PYTHON ASSIGNEMENT20.ipynb',\n",
       " 'IRDAI',\n",
       " 'CROSSBEATS WATCH ISSUE',\n",
       " 'BASIC PYTHON ASSIGNEMENT24.ipynb',\n",
       " 'ASSIGNMENT_NO_14_.jpg',\n",
       " 'ASSIGNEMENT',\n",
       " 'BASIC PYTHON ASSIGNEMENT19.ipynb',\n",
       " 'SNOWFLAKE',\n",
       " 'Certificates',\n",
       " 'A',\n",
       " '~$eate+Stage (1).docx',\n",
       " 'BASIC PYTHON ASSIGNEMENT17.ipynb',\n",
       " 'BASIC PYTHON ASSIGNEMENT15.ipynb',\n",
       " 'LIM + Final PPT',\n",
       " 'books.csv',\n",
       " 'BUDET 2023-2024',\n",
       " 'Business Card.pdf',\n",
       " 'ML',\n",
       " 'WhatsApp Video 2022-11-08 at 4.24.46 PM.mp4',\n",
       " 'DATA SCIENCE',\n",
       " 'EV Modules.pdf',\n",
       " 'BASIC PYTHON ASSIGNEMENT11.ipynb',\n",
       " 'Aniket Joshi.CCC form.pdf',\n",
       " 'BASIC PYTHON ASSIGNEMENT13.ipynb',\n",
       " 'test.txt',\n",
       " '.ipynb_checkpoints',\n",
       " 'BASIC PYTHON ASSIGNEMENT14.ipynb',\n",
       " 'TEXT',\n",
       " 'BASIC PYTHON ASSIGNEMENT16.ipynb',\n",
       " 'books.db',\n",
       " 'BASIC PYTHON ASSIGNEMENT12.ipynb',\n",
       " 'RESUME ',\n",
       " 'Top 40 Participating Recruiters - Sheet2.pdf',\n",
       " 'COVID CERTIFICATE:PASS']"
      ]
     },
     "execution_count": 5,
     "metadata": {},
     "output_type": "execute_result"
    }
   ],
   "source": [
    "import os \n",
    "os.listdir('.')"
   ]
  },
  {
   "cell_type": "code",
   "execution_count": null,
   "id": "d7cc9079",
   "metadata": {},
   "outputs": [],
   "source": [
    "# 5. Create a list of all of the files in your parent directory (minimum five files should be available).\n",
    "ANS -"
   ]
  },
  {
   "cell_type": "code",
   "execution_count": 6,
   "id": "869f359a",
   "metadata": {
    "scrolled": true
   },
   "outputs": [
    {
     "data": {
      "text/plain": [
       "['.config',\n",
       " 'Music',\n",
       " '.Python',\n",
       " '.condarc',\n",
       " '.docker',\n",
       " '.DS_Store',\n",
       " '.CFUserTextEncoding',\n",
       " 'bin',\n",
       " '.xonshrc',\n",
       " '.zshrc',\n",
       " '.mongodb',\n",
       " 'Pictures',\n",
       " 'Postman',\n",
       " 'pyvenv.cfg',\n",
       " '.zsh_history',\n",
       " '.ipython',\n",
       " 'Desktop',\n",
       " 'Library',\n",
       " '.matplotlib',\n",
       " 'seaborn-data',\n",
       " '.android',\n",
       " 'Public',\n",
       " '.gitignore',\n",
       " '.tcshrc',\n",
       " '.anaconda',\n",
       " 'Movies',\n",
       " 'Applications',\n",
       " 'lib',\n",
       " '.Trash',\n",
       " '.ipynb_checkpoints',\n",
       " '.jupyter',\n",
       " '.keras',\n",
       " 'Documents',\n",
       " '.anydesk',\n",
       " '.vscode',\n",
       " '.bash_profile',\n",
       " 'Downloads',\n",
       " '.continuum',\n",
       " '.cufflinks',\n",
       " '.bash_history',\n",
       " '.zsh_sessions',\n",
       " '.astropy',\n",
       " '.conda']"
      ]
     },
     "execution_count": 6,
     "metadata": {},
     "output_type": "execute_result"
    }
   ],
   "source": [
    "os.listdir('..')"
   ]
  },
  {
   "cell_type": "code",
   "execution_count": null,
   "id": "7bd040a9",
   "metadata": {},
   "outputs": [],
   "source": [
    "#6. Use multiprocessing to create three separate processes. Make each one wait a random number of seconds \n",
    "#    between one and five, print the current time, and then exit.\n",
    "ANS -"
   ]
  },
  {
   "cell_type": "code",
   "execution_count": null,
   "id": "7b6c41ee",
   "metadata": {},
   "outputs": [],
   "source": [
    "#7. Create a date object of your day of birth.\n",
    "ANS -"
   ]
  },
  {
   "cell_type": "code",
   "execution_count": 7,
   "id": "a151f0e4",
   "metadata": {},
   "outputs": [
    {
     "name": "stdout",
     "output_type": "stream",
     "text": [
      "1999-04-15 00:00:00 <class 'datetime.datetime'>\n"
     ]
    }
   ],
   "source": [
    "from datetime import datetime\n",
    "my_bdate = datetime.strptime('15/04/1999' , '%d/%m/%Y')\n",
    "print(my_bdate , type(my_bdate))"
   ]
  },
  {
   "cell_type": "code",
   "execution_count": null,
   "id": "6a2409fc",
   "metadata": {},
   "outputs": [],
   "source": [
    "#8.What day of the week was your day of birth?\n",
    "ANS -"
   ]
  },
  {
   "cell_type": "code",
   "execution_count": 8,
   "id": "b4cd4f58",
   "metadata": {},
   "outputs": [
    {
     "data": {
      "text/plain": [
       "'Thursday'"
      ]
     },
     "execution_count": 8,
     "metadata": {},
     "output_type": "execute_result"
    }
   ],
   "source": [
    "from datetime import datetime\n",
    "my_bdate = datetime(1999,4,15)\n",
    "my_bdate.strftime(\"%A\")"
   ]
  },
  {
   "cell_type": "code",
   "execution_count": null,
   "id": "43381a68",
   "metadata": {},
   "outputs": [],
   "source": [
    "#9. When will you be (or when were you) 10,000 days old?\n",
    "ANS -"
   ]
  },
  {
   "cell_type": "code",
   "execution_count": 9,
   "id": "0960dde2",
   "metadata": {},
   "outputs": [
    {
     "name": "stdout",
     "output_type": "stream",
     "text": [
      "1969-12-05 00:00:00\n"
     ]
    }
   ],
   "source": [
    "from datetime import datetime, timedelta\n",
    "my_bdate = datetime.strptime(\"22/04/1997\",'%d/%m/%Y')\n",
    "future_date = my_bdate-timedelta(10000)\n",
    "print(future_date)"
   ]
  },
  {
   "cell_type": "code",
   "execution_count": null,
   "id": "d85e9355",
   "metadata": {},
   "outputs": [],
   "source": []
  },
  {
   "cell_type": "code",
   "execution_count": null,
   "id": "a7f99ae8",
   "metadata": {},
   "outputs": [],
   "source": []
  }
 ],
 "metadata": {
  "kernelspec": {
   "display_name": "Python 3 (ipykernel)",
   "language": "python",
   "name": "python3"
  },
  "language_info": {
   "codemirror_mode": {
    "name": "ipython",
    "version": 3
   },
   "file_extension": ".py",
   "mimetype": "text/x-python",
   "name": "python",
   "nbconvert_exporter": "python",
   "pygments_lexer": "ipython3",
   "version": "3.9.12"
  }
 },
 "nbformat": 4,
 "nbformat_minor": 5
}
