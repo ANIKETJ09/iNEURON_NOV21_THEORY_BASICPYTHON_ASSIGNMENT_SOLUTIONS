{
 "cells": [
  {
   "cell_type": "code",
   "execution_count": 3,
   "id": "59904ed0",
   "metadata": {},
   "outputs": [
    {
     "name": "stdout",
     "output_type": "stream",
     "text": [
      "Object `explain` not found.\n",
      "iNeuron\n"
     ]
    }
   ],
   "source": [
    "#1. What is the result of the code, and explain?\n",
    "X = 'iNeuron'\n",
    "def func():\n",
    "    print(X)\n",
    "func()\n",
    "# ANS - The result of this code is iNeuron. As there is no loacl variable available nside the\n",
    "# function it tries to tries to return the value of global variable which is 'x'."
   ]
  },
  {
   "cell_type": "code",
   "execution_count": 4,
   "id": "7517b8bb",
   "metadata": {},
   "outputs": [
    {
     "name": "stdout",
     "output_type": "stream",
     "text": [
      "iNeuron\n"
     ]
    }
   ],
   "source": [
    "x = 'iNeuron'\n",
    "def func():\n",
    "  print(x)\n",
    "func()"
   ]
  },
  {
   "cell_type": "code",
   "execution_count": 6,
   "id": "d14719b7",
   "metadata": {},
   "outputs": [
    {
     "name": "stdout",
     "output_type": "stream",
     "text": [
      "Object `explain` not found.\n",
      "iNeuron\n"
     ]
    }
   ],
   "source": [
    "#2. What is the result of the code, and explain?\n",
    "X = 'iNeuron'\n",
    "def func():\n",
    "    X = 'NI!'\n",
    "func()\n",
    "print(X)\n",
    "\n",
    "#ANS - The result of the code after running is 'NI!'. Because, as the loacl variable value is available\n",
    "#inside the function it prints the value of 'x' inside the function which is 'NI!' "
   ]
  },
  {
   "cell_type": "code",
   "execution_count": 7,
   "id": "92ffb98c",
   "metadata": {},
   "outputs": [
    {
     "name": "stdout",
     "output_type": "stream",
     "text": [
      "NI!\n"
     ]
    }
   ],
   "source": [
    "X = 'iNeuron'\n",
    "def func():\n",
    "    X = 'NI!'\n",
    "    print(X)\n",
    "func()"
   ]
  },
  {
   "cell_type": "code",
   "execution_count": 8,
   "id": "d2ddecfb",
   "metadata": {},
   "outputs": [
    {
     "name": "stdout",
     "output_type": "stream",
     "text": [
      "Object `why` not found.\n",
      "iNeuron\n",
      "iNeuron\n"
     ]
    }
   ],
   "source": [
    "#3. What does this code print, and why?\n",
    "X = 'iNeuron'\n",
    "def func():\n",
    "    X = 'NI!'\n",
    "print(X)\n",
    "func()\n",
    "print(X)\n",
    "#ANS - The value of x inside the function has loacl scope so it returns 'NI!' as the value of 'x'.\n",
    "#Where as the print(X) statement gives value of X as 'iNeuron' as it's available outside the function."
   ]
  },
  {
   "cell_type": "code",
   "execution_count": 9,
   "id": "3774ea8e",
   "metadata": {},
   "outputs": [
    {
     "name": "stdout",
     "output_type": "stream",
     "text": [
      "NI\n",
      "iNeuron\n"
     ]
    }
   ],
   "source": [
    "X = 'iNeuron'\n",
    "def func():\n",
    "    X = 'NI'\n",
    "    print(X)\n",
    "func()\n",
    "print(X)"
   ]
  },
  {
   "cell_type": "code",
   "execution_count": 10,
   "id": "b85356dd",
   "metadata": {},
   "outputs": [
    {
     "name": "stdout",
     "output_type": "stream",
     "text": [
      "NI!\n",
      "NI!\n"
     ]
    }
   ],
   "source": [
    "# 4. What output does this code produce? Why?\n",
    "X = 'iNeuron'\n",
    "def func():\n",
    "    global X\n",
    "X = 'NI!'\n",
    "print(X)\n",
    "func()\n",
    "print(X)\n",
    "\n",
    "#ANS - The output is 'NI!'. Here outside the function, X is the global variable having value as \"iNeuron\". \n",
    "#But inside the function we changed the local scope of variable X to global scope by using the global keyword \n",
    "#nside the fucntion which have the value as 'NI!'."
   ]
  },
  {
   "cell_type": "code",
   "execution_count": 11,
   "id": "9febbe5c",
   "metadata": {},
   "outputs": [
    {
     "name": "stdout",
     "output_type": "stream",
     "text": [
      "NI\n"
     ]
    }
   ],
   "source": [
    "X = 'iNeuron'\n",
    "def func():\n",
    "    global X\n",
    "    X = 'NI'\n",
    "func()\n",
    "print(X)"
   ]
  },
  {
   "cell_type": "code",
   "execution_count": 13,
   "id": "2458872b",
   "metadata": {},
   "outputs": [
    {
     "name": "stdout",
     "output_type": "stream",
     "text": [
      "iNeuron\n"
     ]
    },
    {
     "data": {
      "text/plain": [
       "'iNeuron'"
      ]
     },
     "execution_count": 13,
     "metadata": {},
     "output_type": "execute_result"
    }
   ],
   "source": [
    "# 5. What about this code—what’s the output, and why?\n",
    "\n",
    "X = 'iNeuron'\n",
    "def func():\n",
    "    X = 'NI'\n",
    "def nested():\n",
    "    print(X)\n",
    "nested()\n",
    "func()\n",
    "X\n",
    "# ANS - The output of the code is NI!. the reason for this output is if a function wants to access a variable,\n",
    "# if its not available in its localscope. it looks for the variable in its global scope. similarly here also\n",
    "# function nested looks for variable X in its global scope. hence the output of the code is NI!"
   ]
  },
  {
   "cell_type": "code",
   "execution_count": 14,
   "id": "779b0732",
   "metadata": {},
   "outputs": [
    {
     "name": "stdout",
     "output_type": "stream",
     "text": [
      "NI\n"
     ]
    },
    {
     "data": {
      "text/plain": [
       "'iNeuron'"
      ]
     },
     "execution_count": 14,
     "metadata": {},
     "output_type": "execute_result"
    }
   ],
   "source": [
    "X = 'iNeuron'\n",
    "def func():\n",
    "    X = 'NI'\n",
    "    def nested():\n",
    "        print(X)\n",
    "    nested()\n",
    "func()\n",
    "X"
   ]
  },
  {
   "cell_type": "code",
   "execution_count": null,
   "id": "edb56934",
   "metadata": {},
   "outputs": [],
   "source": [
    "# 6. How about this code: what is its output in Python 3, and explain? X = 'kkl'\n",
    "def func():\n",
    "    X = 'NI'\n",
    "def nested():\n",
    "    nonlocal X\n",
    "X = 'spam'\n",
    "nested()\n",
    "print(X)\n",
    "func()\n",
    "\n",
    "#ANS - The output of the code is Spam . The nonlocal keyword changes the scope of variable X from the local \n",
    "#to global. Hence the output is Spam"
   ]
  },
  {
   "cell_type": "code",
   "execution_count": 19,
   "id": "58bb44f9",
   "metadata": {},
   "outputs": [
    {
     "name": "stdout",
     "output_type": "stream",
     "text": [
      "Spam\n"
     ]
    }
   ],
   "source": [
    "def func():\n",
    "    X = 'NI'\n",
    "    def nested():\n",
    "        nonlocal X\n",
    "        X = 'Spam'\n",
    "    nested()\n",
    "    print(X)\n",
    "func()"
   ]
  },
  {
   "cell_type": "code",
   "execution_count": null,
   "id": "21616ef1",
   "metadata": {},
   "outputs": [],
   "source": []
  },
  {
   "cell_type": "code",
   "execution_count": null,
   "id": "75830e63",
   "metadata": {},
   "outputs": [],
   "source": []
  }
 ],
 "metadata": {
  "kernelspec": {
   "display_name": "Python 3 (ipykernel)",
   "language": "python",
   "name": "python3"
  },
  "language_info": {
   "codemirror_mode": {
    "name": "ipython",
    "version": 3
   },
   "file_extension": ".py",
   "mimetype": "text/x-python",
   "name": "python",
   "nbconvert_exporter": "python",
   "pygments_lexer": "ipython3",
   "version": "3.9.12"
  }
 },
 "nbformat": 4,
 "nbformat_minor": 5
}
